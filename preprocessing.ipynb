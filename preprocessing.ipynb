{
 "cells": [
  {
   "cell_type": "code",
   "execution_count": 474,
   "metadata": {
    "ExecuteTime": {
     "end_time": "2018-11-07T14:06:08.920741Z",
     "start_time": "2018-11-07T14:06:08.911742Z"
    }
   },
   "outputs": [],
   "source": [
    "from glob import glob\n",
    "from konlpy.tag import Okt\n",
    "import re\n",
    "import ujson as json\n",
    "import pickle\n",
    "twitter = Okt()\n",
    "tag_set = set(['Noun', 'Verb', 'Adjective'])"
   ]
  },
  {
   "cell_type": "code",
   "execution_count": 2,
   "metadata": {
    "ExecuteTime": {
     "end_time": "2018-11-07T08:38:09.615095Z",
     "start_time": "2018-11-07T08:37:59.822371Z"
    }
   },
   "outputs": [],
   "source": [
    "filenames = glob('./results/results*.json')\n",
    "data = []\n",
    "\n",
    "for filename in filenames:\n",
    "    with open(filename) as f:\n",
    "        d = json.load(f)\n",
    "        for article in d:\n",
    "            if article['title'] != '' and article['text'] != '' and article['date'] is not None:\n",
    "                data.append(article)"
   ]
  },
  {
   "cell_type": "code",
   "execution_count": 3,
   "metadata": {
    "ExecuteTime": {
     "end_time": "2018-11-07T08:38:09.624096Z",
     "start_time": "2018-11-07T08:38:09.616081Z"
    }
   },
   "outputs": [
    {
     "data": {
      "text/plain": [
       "95180"
      ]
     },
     "execution_count": 3,
     "metadata": {},
     "output_type": "execute_result"
    }
   ],
   "source": [
    "len(data)"
   ]
  },
  {
   "cell_type": "code",
   "execution_count": 477,
   "metadata": {
    "ExecuteTime": {
     "end_time": "2018-11-07T14:09:31.995728Z",
     "start_time": "2018-11-07T14:09:31.987729Z"
    }
   },
   "outputs": [],
   "source": [
    "def regexp(str_):\n",
    "    str_ = re.sub(r'【.+】', ' ', str_)\n",
    "    str_ = re.sub(r'\\[\\w+=(\\w+)?( )?\\w+]', ' ', str_)\n",
    "    str_ = re.sub(r'\\(\\w+( )?=( )?(\\w+)\\w+\\)', ' ', str_)\n",
    "    str_ = re.sub(r'<\\S+=\\S+>', ' ', str_)\n",
    "    str_ = re.sub(r'원본 기사 보기', ' ', str_)\n",
    "    str_ = re.sub(r'구독신청', ' ', str_)\n",
    "    str_ = re.sub(r'출처( )?=( )?\\w+ 제공', ' ', str_)\n",
    "    str_ = re.sub(r'\\w+( )?제공', ' ', str_)\n",
    "    str_ = re.sub(r'기사제보 및 보도자료', ' ', str_)\n",
    "    str_ = re.sub(r'무단( )?전재 및 재배포 금지', ' ', str_)\n",
    "    str_ = re.sub(r'송고( )?(시간)?', ' ', str_)\n",
    "    str_ = re.sub(r'(저작권자 )?© (\\w+)?', ' ', str_)\n",
    "    str_ = re.sub(r'\\w+ 바로가기', ' ', str_)\n",
    "    str_ = re.sub(r'\\w+( )?(\\S+)?( )?기자', ' ', str_)\n",
    "    str_ = re.sub(r'\\(\\w+\\)', ' ', str_)\n",
    "    str_ = re.sub(r'\\w+(일보|닷컴|신문|뉴스)', ' ', str_)\n",
    "    str_ = re.sub(r'(페이스북메신저|밴드|블로그|구글플러스|핀터레스트)', ' ', str_)\n",
    "    str_ = \" \".join(str_.split())    \n",
    "    return str_"
   ]
  },
  {
   "cell_type": "code",
   "execution_count": null,
   "metadata": {
    "ExecuteTime": {
     "start_time": "2018-11-07T14:09:32.542Z"
    }
   },
   "outputs": [
    {
     "name": "stdout",
     "output_type": "stream",
     "text": [
      "0\n"
     ]
    }
   ],
   "source": [
    "results = []\n",
    "for i, article in enumerate(data):\n",
    "    if i % 5000 == 0:\n",
    "        print(i)\n",
    "\n",
    "    re_text = regexp(article['text'])\n",
    "    if len(re_text) > 0:        \n",
    "        words = twitter.pos(re_text, norm=True, stem=True)\n",
    "        words = [w for w, t in words if t not in tag_set]\n",
    "        article['tokens'] = words\n",
    "        results.append(article)\n",
    "    \n",
    "with open('words_preprocessed.json', 'w') as f:\n",
    "    json.dump(results, f)"
   ]
  },
  {
   "cell_type": "code",
   "execution_count": null,
   "metadata": {},
   "outputs": [],
   "source": []
  }
 ],
 "metadata": {
  "kernelspec": {
   "display_name": "Python 3",
   "language": "python",
   "name": "python3"
  },
  "language_info": {
   "codemirror_mode": {
    "name": "ipython",
    "version": 3
   },
   "file_extension": ".py",
   "mimetype": "text/x-python",
   "name": "python",
   "nbconvert_exporter": "python",
   "pygments_lexer": "ipython3",
   "version": "3.6.7"
  }
 },
 "nbformat": 4,
 "nbformat_minor": 2
}
