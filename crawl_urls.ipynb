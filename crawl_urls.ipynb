{
 "cells": [
  {
   "cell_type": "code",
   "execution_count": 1,
   "metadata": {
    "ExecuteTime": {
     "end_time": "2018-11-03T10:28:07.978670Z",
     "start_time": "2018-11-03T10:28:06.837467Z"
    }
   },
   "outputs": [],
   "source": [
    "from bs4 import BeautifulSoup\n",
    "from fake_useragent import UserAgent\n",
    "import requests\n",
    "import os\n",
    "import re\n",
    "from time import sleep\n",
    "from dateutil.relativedelta import relativedelta\n",
    "from datetime import datetime\n",
    "import ujson as json\n",
    "from random import shuffle\n",
    "from newspaper import Article\n",
    "\n",
    "headers = {'User-Agent': UserAgent()['Chrome']}"
   ]
  },
  {
   "cell_type": "code",
   "execution_count": 4,
   "metadata": {
    "ExecuteTime": {
     "end_time": "2018-11-03T10:29:17.389947Z",
     "start_time": "2018-11-03T10:29:17.128077Z"
    },
    "scrolled": true
   },
   "outputs": [
    {
     "ename": "AttributeError",
     "evalue": "'NoneType' object has no attribute 'findAll'",
     "output_type": "error",
     "traceback": [
      "\u001b[0;31m---------------------------------------------------------------------------\u001b[0m",
      "\u001b[0;31mAttributeError\u001b[0m                            Traceback (most recent call last)",
      "\u001b[0;32m<ipython-input-4-02ef5e1a230e>\u001b[0m in \u001b[0;36m<module>\u001b[0;34m()\u001b[0m\n\u001b[1;32m     18\u001b[0m         \u001b[0mbs\u001b[0m \u001b[0;34m=\u001b[0m \u001b[0mBeautifulSoup\u001b[0m\u001b[0;34m(\u001b[0m\u001b[0mres\u001b[0m\u001b[0;34m.\u001b[0m\u001b[0mtext\u001b[0m\u001b[0;34m)\u001b[0m\u001b[0;34m\u001b[0m\u001b[0m\n\u001b[1;32m     19\u001b[0m \u001b[0;34m\u001b[0m\u001b[0m\n\u001b[0;32m---> 20\u001b[0;31m         \u001b[0mlinkList\u001b[0m \u001b[0;34m=\u001b[0m \u001b[0mbs\u001b[0m\u001b[0;34m.\u001b[0m\u001b[0mfind\u001b[0m\u001b[0;34m(\u001b[0m\u001b[0;34m'ul'\u001b[0m\u001b[0;34m,\u001b[0m \u001b[0;34m{\u001b[0m\u001b[0;34m\"class\"\u001b[0m\u001b[0;34m:\u001b[0m \u001b[0;34m'type01'\u001b[0m\u001b[0;34m}\u001b[0m\u001b[0;34m)\u001b[0m\u001b[0;34m.\u001b[0m\u001b[0mfindAll\u001b[0m\u001b[0;34m(\u001b[0m\u001b[0;34m'dl'\u001b[0m\u001b[0;34m)\u001b[0m\u001b[0;34m\u001b[0m\u001b[0m\n\u001b[0m\u001b[1;32m     21\u001b[0m         \u001b[0mhrefs\u001b[0m \u001b[0;34m=\u001b[0m \u001b[0;34m[\u001b[0m\u001b[0mdl\u001b[0m\u001b[0;34m.\u001b[0m\u001b[0mfind\u001b[0m\u001b[0;34m(\u001b[0m\u001b[0;34m'dt'\u001b[0m\u001b[0;34m)\u001b[0m\u001b[0;34m.\u001b[0m\u001b[0mfind\u001b[0m\u001b[0;34m(\u001b[0m\u001b[0;34m'a'\u001b[0m\u001b[0;34m)\u001b[0m\u001b[0;34m[\u001b[0m\u001b[0;34m'href'\u001b[0m\u001b[0;34m]\u001b[0m \u001b[0;32mfor\u001b[0m \u001b[0mdl\u001b[0m \u001b[0;32min\u001b[0m \u001b[0mlinkList\u001b[0m\u001b[0;34m]\u001b[0m\u001b[0;34m\u001b[0m\u001b[0m\n\u001b[1;32m     22\u001b[0m         \u001b[0murls\u001b[0m\u001b[0;34m.\u001b[0m\u001b[0mupdate\u001b[0m\u001b[0;34m(\u001b[0m\u001b[0mhrefs\u001b[0m\u001b[0;34m)\u001b[0m\u001b[0;34m\u001b[0m\u001b[0m\n",
      "\u001b[0;31mAttributeError\u001b[0m: 'NoneType' object has no attribute 'findAll'"
     ]
    }
   ],
   "source": [
    "urls = set(urls)\n",
    "\n",
    "query = \"기후\"\n",
    "cur_date = start_date = datetime(2017, 11, 5)\n",
    "end_date = datetime.today()\n",
    "\n",
    "while cur_date <= end_date:\n",
    "    date = (cur_date.year, cur_date.month, cur_date.day)\n",
    "    date_string = \"%d-%02d-%02d\" % date\n",
    "    date_string_ = \"%d%02d%02d\" % date\n",
    "\n",
    "    page = 0\n",
    "    while True:\n",
    "        # 기후가 포함된 온난화 검색 결과\n",
    "        # &query=온난화+%2B기후\n",
    "        url = f'https://search.naver.com/search.naver?where=news&query={query}&ds={date_string}&de={date_string}&nso=so%3Ar%2Cp%3Afrom{date_string_}to{date_string_}%2Ca%3Aall&start={page*10+1}'\n",
    "        res = requests.get(url, headers=headers)\n",
    "        bs = BeautifulSoup(res.text)\n",
    "        \n",
    "        linkList = bs.find('ul', {\"class\": 'type01'}).findAll('dl')\n",
    "        hrefs = [dl.find('dt').find('a')['href'] for dl in linkList]\n",
    "        urls.update(hrefs)\n",
    "        for links in linkList:\n",
    "            try:\n",
    "                urls.update([a['href'] for a in links.find('ul', {'class': 'relation_lst'}).findAll('a')])\n",
    "            except:\n",
    "                continue\n",
    "\n",
    "        # 끝 페이지 다다르면 종료\n",
    "        try:\n",
    "            current_page = int(\n",
    "                bs.find(\n",
    "                    'div', {\n",
    "                        'class': 'paging'}).find('strong').text)\n",
    "        except:\n",
    "            break\n",
    "        if page > current_page:\n",
    "            break\n",
    "        \n",
    "        page += 1\n",
    "        sleep(0.5)\n",
    "\n",
    "    print(f\"{cur_date.strftime('%Y-%m-%d')} - {len(urls)}\")\n",
    "    cur_date += relativedelta(days=1)\n",
    "    \n",
    "urls = list(urls)"
   ]
  },
  {
   "cell_type": "code",
   "execution_count": 5,
   "metadata": {
    "ExecuteTime": {
     "end_time": "2018-11-03T10:29:17.902456Z",
     "start_time": "2018-11-03T10:29:17.494366Z"
    }
   },
   "outputs": [],
   "source": [
    "urls = list(urls)\n",
    "shuffle(urls)\n",
    "\n",
    "with open('urls.json', 'w') as f:\n",
    "    json.dump(urls, f)"
   ]
  },
  {
   "cell_type": "code",
   "execution_count": null,
   "metadata": {},
   "outputs": [],
   "source": []
  }
 ],
 "metadata": {
  "kernelspec": {
   "display_name": "Python 3",
   "language": "python",
   "name": "python3"
  },
  "language_info": {
   "codemirror_mode": {
    "name": "ipython",
    "version": 3
   },
   "file_extension": ".py",
   "mimetype": "text/x-python",
   "name": "python",
   "nbconvert_exporter": "python",
   "pygments_lexer": "ipython3",
   "version": "3.6.6"
  }
 },
 "nbformat": 4,
 "nbformat_minor": 2
}
